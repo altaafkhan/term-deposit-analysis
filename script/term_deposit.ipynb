{
 "cells": [
  {
   "cell_type": "markdown",
   "metadata": {},
   "source": [
    "# Term Deposit Marketing Campaign Analysis\n",
    "\n",
    "The aim of the marketing campaign was to get customers to subscribe to a bank term deposit product. Whether they did this or not is variable ‘y’ in the data set. The bank in question is considering how to optimise this campaign in future.\n",
    "\n",
    "What would your recommendations to the marketing manager be?"
   ]
  },
  {
   "cell_type": "markdown",
   "metadata": {},
   "source": [
    "________"
   ]
  },
  {
   "cell_type": "markdown",
   "metadata": {},
   "source": [
    "### Step 1: Import Modules & Data"
   ]
  },
  {
   "cell_type": "markdown",
   "metadata": {},
   "source": [
    "#### Step 1a: Import modules, read tab delimited file and review dataframe"
   ]
  },
  {
   "cell_type": "code",
   "execution_count": null,
   "metadata": {},
   "outputs": [],
   "source": [
    "# import pandas and numpy\n",
    "import pandas as pd\n",
    "import numpy as np\n",
    "\n",
    "# import visualisation modules\n",
    "import matplotlib.pyplot as plt\n",
    "import seaborn as sns"
   ]
  },
  {
   "cell_type": "code",
   "execution_count": null,
   "metadata": {},
   "outputs": [],
   "source": [
    "# read in tab delimited data file\n",
    "inp = pd.read_csv('../Data/Bank_Marketing_Downloads.txt', header=0, sep='\\t')\n",
    "\n",
    "# review first five records of inp dataframe\n",
    "inp.head()"
   ]
  },
  {
   "cell_type": "code",
   "execution_count": null,
   "metadata": {},
   "outputs": [],
   "source": [
    "print('Dataframe contains', len(inp), 'rows and', len(inp.columns), 'columns')"
   ]
  },
  {
   "cell_type": "markdown",
   "metadata": {},
   "source": [
    "*Observations:*\n",
    "* Imported dataframe contains 45,211 rows and 17 columns"
   ]
  },
  {
   "cell_type": "markdown",
   "metadata": {},
   "source": []
  },
  {
   "cell_type": "markdown",
   "metadata": {},
   "source": [
    "________"
   ]
  },
  {
   "cell_type": "markdown",
   "metadata": {},
   "source": [
    "### Step 2: Data Exploration"
   ]
  },
  {
   "cell_type": "markdown",
   "metadata": {},
   "source": [
    "#### Step 2a: Review data type and check for null values for each column"
   ]
  },
  {
   "cell_type": "code",
   "execution_count": null,
   "metadata": {},
   "outputs": [],
   "source": [
    "# print column data types and check for any columns with null values\n",
    "inp.info()"
   ]
  },
  {
   "cell_type": "code",
   "execution_count": null,
   "metadata": {},
   "outputs": [],
   "source": [
    "# check for duplicate records\n",
    "print(inp.duplicated().value_counts())"
   ]
  },
  {
   "cell_type": "markdown",
   "metadata": {},
   "source": [
    "*Observations:*\n",
    "* Dataframe (inp) has 7 numerical and 10 categorical columns. \n",
    "* None of these columns have any null values. \n",
    "* There are no duplicates."
   ]
  },
  {
   "cell_type": "markdown",
   "metadata": {},
   "source": []
  },
  {
   "cell_type": "markdown",
   "metadata": {},
   "source": [
    "#### Step 2b: Explore numerical columns"
   ]
  },
  {
   "cell_type": "code",
   "execution_count": null,
   "metadata": {},
   "outputs": [],
   "source": [
    "# summary stats for numerical columns\n",
    "inp.describe()"
   ]
  },
  {
   "cell_type": "markdown",
   "metadata": {},
   "source": [
    "*Observations:*\n",
    "* Mean age is approximately 41, with minimum age 18 and maximum age 95.\n",
    "* Mean balance is $1362. However standard deviation is a high number suggesting balance amount is more spread out and indicating outliers in the dataset.\n",
    "* 75% of customer were not contacted prior to this campaign. \n",
    "* Although duration of call might not be important ie: the longer the call, the more likely customer subscribes to term deposit. However, I am keen to investigate what was the mean call duration of customers who subscribed. More on this a little further down this notebook.\n"
   ]
  },
  {
   "cell_type": "code",
   "execution_count": null,
   "metadata": {},
   "outputs": [],
   "source": [
    "# distribution of each int columns\n",
    "plt.style.use('seaborn-whitegrid')\n",
    "\n",
    "inp.hist(bins=20, figsize=(14,10), color='#e3b18d')\n",
    "plt.show()"
   ]
  },
  {
   "cell_type": "markdown",
   "metadata": {},
   "source": [
    "*Observations:*\n",
    "* We can see that numerical columns have outliers, especially 'campaign', 'pdays' and 'previous' columns), indicating outliers of possibly noisy data (incorrect value)."
   ]
  },
  {
   "cell_type": "code",
   "execution_count": null,
   "metadata": {},
   "outputs": [],
   "source": [
    "# let's take a closer look at 'campaign','pdays','previous'\n",
    "inp[['balance','duration','campaign','pdays','previous']].describe()"
   ]
  },
  {
   "cell_type": "code",
   "execution_count": null,
   "metadata": {},
   "outputs": [],
   "source": [
    "# Percentage of 'balance' in negative:\n",
    "len (inp[inp['balance'] < 0] ) / len(inp) * 100"
   ]
  },
  {
   "cell_type": "code",
   "execution_count": null,
   "metadata": {},
   "outputs": [],
   "source": [
    "# Percentage of 'balance' above 10000:\n",
    "len (inp[inp['balance'] > 10000] ) / len(inp) * 100"
   ]
  },
  {
   "cell_type": "markdown",
   "metadata": {},
   "source": [
    "*Observations:*\n",
    "* 'balance' holds the average yearly balance, in euros (numeric).\n",
    "* 8.4% of customers have negative average yearly balance.\n",
    "* Because standard deviation of balance is such a high number, balance above 10000 are noise.\n",
    "* Suggest to impute them with mean balance values while data cleaning."
   ]
  },
  {
   "cell_type": "code",
   "execution_count": null,
   "metadata": {},
   "outputs": [],
   "source": [
    "# Percentage of 'duration' less than a minute:\n",
    "len (inp[inp['duration'] < 60] ) / len(inp) * 100"
   ]
  },
  {
   "cell_type": "code",
   "execution_count": null,
   "metadata": {},
   "outputs": [],
   "source": [
    "# Percentage of 'duration' more than 30mins:\n",
    "len (inp[inp['duration'] > 1800 ] ) / len(inp) * 100"
   ]
  },
  {
   "cell_type": "markdown",
   "metadata": {},
   "source": [
    "*Observations:*\n",
    "* 'duration' holds last contact duration, in seconds (numeric) other attributes\n",
    "* Numbers for 'duration' less than 60secs (1min) and more than 1800secs (30mins) are noise"
   ]
  },
  {
   "cell_type": "code",
   "execution_count": null,
   "metadata": {},
   "outputs": [],
   "source": [
    "# Percentage of 'campaign' values above 30:\n",
    "len (inp[inp['campaign'] > 30] ) / len(inp) * 100"
   ]
  },
  {
   "cell_type": "markdown",
   "metadata": {},
   "source": [
    "*Observations:*\n",
    "* 'campaign' holds the number of contacts performed during this campaign and for this client (numeric, includes last contact) \n",
    "* Numbers for 'campaign' above 30 are clearly noise\n",
    "* Suggest to impute them with mean campaign values while data cleaning."
   ]
  },
  {
   "cell_type": "code",
   "execution_count": null,
   "metadata": {},
   "outputs": [],
   "source": [
    "# Percentage of 'pdays' values < 0 ie: customer was not previously contacted:\n",
    "len (inp[inp['pdays'] < 0] ) / len(inp) * 100"
   ]
  },
  {
   "cell_type": "code",
   "execution_count": null,
   "metadata": {},
   "outputs": [],
   "source": [
    "# Percentage of 'pdays' values above 365 (1 year):\n",
    "len (inp[inp['pdays'] > 365] ) / len(inp) * 100"
   ]
  },
  {
   "cell_type": "markdown",
   "metadata": {},
   "source": [
    "*Observations:*\n",
    "* 'pdays' holds the number of days that passed by after the client was last contacted from a previous campaign Looking closer into 'pdays' data we can see that:\n",
    "* Almost 82% of customers weren't previously contacted.\n",
    "* 1.42%% of values are above 365 (1 year). They are possibly outliers, so we should consider imputing something (possibly mean value) instead of these values."
   ]
  },
  {
   "cell_type": "code",
   "execution_count": null,
   "metadata": {},
   "outputs": [],
   "source": [
    "# Percentage of 'previous' values above 34:\n",
    "len (inp[inp['previous'] > 34] ) / len(inp) * 100"
   ]
  },
  {
   "cell_type": "markdown",
   "metadata": {},
   "source": [
    "*Observations:*\n",
    "* 'previous' holds the number of contacts performed before this campaign and for this client (numeric)\n",
    "* Numbers for 'previous' above 34 are also really strange\n",
    "* Suggest to impute them with mean values while data cleaning."
   ]
  },
  {
   "cell_type": "markdown",
   "metadata": {},
   "source": []
  },
  {
   "cell_type": "markdown",
   "metadata": {},
   "source": [
    "#### Step 2c: Explore categorical columns"
   ]
  },
  {
   "cell_type": "code",
   "execution_count": null,
   "metadata": {},
   "outputs": [],
   "source": [
    "# distribution of categorical columns\n",
    "colcatg = ['job', 'marital', 'education', 'default', 'housing', 'loan', 'contact', 'month','poutcome', 'y']\n",
    "plt.style.use('seaborn-whitegrid')\n",
    "\n",
    "fig, axs = plt.subplots(2, 5, sharex=False, sharey=False, figsize=(30, 15))\n",
    "\n",
    "counter = 0\n",
    "for catg in colcatg:\n",
    "    value_counts = inp[catg].value_counts()\n",
    "    \n",
    "    x = counter // 5\n",
    "    y = counter % 5\n",
    "    x_pos = np.arange(0, len(value_counts))\n",
    "    \n",
    "    axs[x, y].bar(x_pos, value_counts.values, tick_label = value_counts.index, color ='#e3b18d')\n",
    "    \n",
    "    axs[x, y].set_title(catg)\n",
    "    \n",
    "    for tick in axs[x, y].get_xticklabels():\n",
    "        tick.set_rotation(90)\n",
    "    \n",
    "    counter += 1\n",
    "\n",
    "plt.show()"
   ]
  },
  {
   "cell_type": "code",
   "execution_count": null,
   "metadata": {},
   "outputs": [],
   "source": [
    "# closer look at variable y, taken up term deposit\n",
    "total = len(inp['y'])\n",
    "print(inp['y'].value_counts())\n",
    "print(inp['y'].value_counts() / total)"
   ]
  },
  {
   "cell_type": "code",
   "execution_count": null,
   "metadata": {},
   "outputs": [],
   "source": [
    "# visualise term deposit subscribers\n",
    "sizes = list(inp['y'].value_counts().sort_values().values)\n",
    "labels = list(inp['y'].value_counts().sort_values().index)\n",
    "\n",
    "explode = [0, 0.1]\n",
    "\n",
    "plt.figure(figsize=(4,4))\n",
    "plt.pie(sizes, labels=labels, explode = explode,\n",
    "        autopct=lambda p:f'{p:.2f}%', colors = ('#b85636','#e8b777'))\n",
    "plt.title('Term Deposit Subscribers')\n",
    "plt.tight_layout()\n",
    "plt.show()"
   ]
  },
  {
   "cell_type": "markdown",
   "metadata": {},
   "source": [
    "*Observations:*\n",
    "* Main call out from looking at distribution of categorical columns is the imbalance in 'y' column (subscribed to term deposit)\n",
    "* 11.7% subscribed, while 88.3% did not subscribe to term deposit"
   ]
  },
  {
   "cell_type": "markdown",
   "metadata": {},
   "source": []
  },
  {
   "cell_type": "markdown",
   "metadata": {},
   "source": [
    "#### Step 2d: Let's compare term deposit (column y) and compare to categorical columns"
   ]
  },
  {
   "cell_type": "code",
   "execution_count": null,
   "metadata": {},
   "outputs": [],
   "source": [
    "# a: month and term deposit take up\n",
    "dfc = pd.DataFrame()\n",
    "\n",
    "dfc['yes'] = inp[inp['y'] == 'yes']['month'].value_counts()\n",
    "dfc['no'] = inp[inp['y'] == 'no']['month'].value_counts()\n",
    "\n",
    "dfc.plot.bar(title = 'Contact Month and Term Deposit Take Up', color = ('#b85636','#e8b777'))"
   ]
  },
  {
   "cell_type": "code",
   "execution_count": null,
   "metadata": {},
   "outputs": [],
   "source": [
    "# b: job and term deposit take up\n",
    "dfc = pd.DataFrame()\n",
    "\n",
    "dfc['yes'] = inp[inp['y'] == 'yes']['job'].value_counts()\n",
    "dfc['no'] = inp[inp['y'] == 'no']['job'].value_counts()\n",
    "\n",
    "dfc.plot.bar(title = 'Job and Term Deposit Take Up', color = ('#b85636','#e8b777'))"
   ]
  },
  {
   "cell_type": "code",
   "execution_count": null,
   "metadata": {},
   "outputs": [],
   "source": [
    "# c: education and term deposit take up\n",
    "dfc = pd.DataFrame()\n",
    "\n",
    "dfc['yes'] = inp[inp['y'] == 'yes']['education'].value_counts()\n",
    "dfc['no'] = inp[inp['y'] == 'no']['education'].value_counts()\n",
    "\n",
    "dfc.plot.bar(title = 'Education and Term Deposit Take Up', color = ('#b85636','#e8b777'))"
   ]
  },
  {
   "cell_type": "code",
   "execution_count": null,
   "metadata": {},
   "outputs": [],
   "source": [
    "# d: marital status and term deposit take up\n",
    "dfc = pd.DataFrame()\n",
    "\n",
    "dfc['yes'] = inp[inp['y'] == 'yes']['marital'].value_counts()\n",
    "dfc['no'] = inp[inp['y'] == 'no']['marital'].value_counts()\n",
    "\n",
    "dfc.plot.bar(title = 'Marital Status and Term Deposit Take Up', color = ('#b85636','#e8b777'))"
   ]
  },
  {
   "cell_type": "code",
   "execution_count": null,
   "metadata": {},
   "outputs": [],
   "source": [
    "# e: credit default and term deposit take up\n",
    "dfc = pd.DataFrame()\n",
    "\n",
    "dfc['yes'] = inp[inp['y'] == 'yes']['default'].value_counts()\n",
    "dfc['no'] = inp[inp['y'] == 'no']['default'].value_counts()\n",
    "\n",
    "dfc.plot.bar(title = 'Credit Default and Term Deposit Take Up', color = ('#b85636','#e8b777'))"
   ]
  },
  {
   "cell_type": "code",
   "execution_count": null,
   "metadata": {},
   "outputs": [],
   "source": [
    "# f: housing loan and term deposit take up\n",
    "dfc = pd.DataFrame()\n",
    "\n",
    "dfc['yes'] = inp[inp['y'] == 'yes']['housing'].value_counts()\n",
    "dfc['no'] = inp[inp['y'] == 'no']['housing'].value_counts()\n",
    "\n",
    "dfc.plot.bar(title = 'Housing and Term Deposit Take Up', color = ('#b85636','#e8b777'))"
   ]
  },
  {
   "cell_type": "code",
   "execution_count": null,
   "metadata": {},
   "outputs": [],
   "source": [
    "# g: personal loan and term deposit take up\n",
    "dfc = pd.DataFrame()\n",
    "\n",
    "dfc['yes'] = inp[inp['y'] == 'yes']['loan'].value_counts()\n",
    "dfc['no'] = inp[inp['y'] == 'no']['loan'].value_counts()\n",
    "\n",
    "dfc.plot.bar(title = 'Personal Loan and Term Deposit Take Up', color = ('#b85636','#e8b777'))"
   ]
  },
  {
   "cell_type": "code",
   "execution_count": null,
   "metadata": {},
   "outputs": [],
   "source": [
    "# h: communication type and term deposit take up\n",
    "dfc = pd.DataFrame()\n",
    "\n",
    "dfc['yes'] = inp[inp['y'] == 'yes']['contact'].value_counts()\n",
    "dfc['no'] = inp[inp['y'] == 'no']['contact'].value_counts()\n",
    "\n",
    "dfc.plot.bar(title = 'Communication Type and Term Deposit Take Up', color = ('#b85636','#e8b777'))"
   ]
  },
  {
   "cell_type": "code",
   "execution_count": null,
   "metadata": {},
   "outputs": [],
   "source": [
    "# i: poutcome and term deposit take up\n",
    "dfc = pd.DataFrame()\n",
    "\n",
    "dfc['yes'] = inp[inp['y'] == 'yes']['poutcome'].value_counts()\n",
    "dfc['no'] = inp[inp['y'] == 'no']['poutcome'].value_counts()\n",
    "\n",
    "dfc.plot.bar(title = 'Previous Campaign Outcome and Term Deposit Take Up', color = ('#b85636','#e8b777'))"
   ]
  },
  {
   "cell_type": "markdown",
   "metadata": {},
   "source": [
    "*Observations:*\n",
    "* Although the months of Mar, Sept, Oct and Dec had the least amount of leads, difference between yes/no is not significant as other months ie: higher subscription rate of total customers contacted in Mar, Sept, Oct and Dec.\n",
    "* Customers in management are more likely to take term desposit.\n",
    "* Those with tertiary education are more likely to take up term deposit\n",
    "* Married customers are less likely to take up term deposit.\n",
    "* Those who don't don't have a credit default, housing or personal loan are more likely to take up term deposit.\n",
    "* Communication type cellular are more likely to take up term deposit.\n",
    "* Customers where there was a positive outcome in previous campaign are highly more likely to take up term deposit. "
   ]
  },
  {
   "cell_type": "markdown",
   "metadata": {},
   "source": []
  },
  {
   "cell_type": "markdown",
   "metadata": {},
   "source": [
    "### Step 2e: Let's compare term deposit (column y) and compare to numerical columns"
   ]
  },
  {
   "cell_type": "code",
   "execution_count": null,
   "metadata": {},
   "outputs": [],
   "source": [
    "# a: balance and deposit\n",
    "dfn = pd.DataFrame()\n",
    "dfn['balance_yes'] = (inp[inp['y'] == 'yes'][['y','balance']].describe())['balance']\n",
    "dfn['balance_no'] = (inp[inp['y'] == 'no'][['y','balance']].describe())['balance']\n",
    "\n",
    "dfn"
   ]
  },
  {
   "cell_type": "code",
   "execution_count": null,
   "metadata": {},
   "outputs": [],
   "source": [
    "dfn.drop(['count', '25%', '50%', '75%']).plot.bar(title = 'Balance and Deposit Stats', \n",
    "        color = ('#b85636','#e8b777'))"
   ]
  },
  {
   "cell_type": "code",
   "execution_count": null,
   "metadata": {},
   "outputs": [],
   "source": [
    "# b: age and deposit\n",
    "dfn = pd.DataFrame()\n",
    "dfn['age_yes'] = (inp[inp['y'] == 'yes'][['y','age']].describe())['age']\n",
    "dfn['age_no'] = (inp[inp['y'] == 'no'][['y','age']].describe())['age']\n",
    "\n",
    "dfn"
   ]
  },
  {
   "cell_type": "code",
   "execution_count": null,
   "metadata": {},
   "outputs": [],
   "source": [
    "dfn.drop(['count', '25%', '50%', '75%']).plot.bar(title = 'Age and Deposit Stats', \n",
    "        color = ('#b85636','#e8b777'))"
   ]
  },
  {
   "cell_type": "code",
   "execution_count": null,
   "metadata": {},
   "outputs": [],
   "source": [
    "# c: number of contacts performed during this campaign ('campaign') and deposit\n",
    "dfn = pd.DataFrame()\n",
    "dfn['campaign_yes'] = (inp[inp['y'] == 'yes'][['y','campaign']].describe())['campaign']\n",
    "dfn['campaign_no'] = (inp[inp['y'] == 'no'][['y','campaign']].describe())['campaign']\n",
    "\n",
    "dfn"
   ]
  },
  {
   "cell_type": "code",
   "execution_count": null,
   "metadata": {},
   "outputs": [],
   "source": [
    "dfn.drop(['count', '25%', '50%', '75%']).plot.bar(\n",
    "        title = 'Number of Contacts this Campaign and Deposit Stats', \n",
    "        color = ('#b85636','#e8b777'))"
   ]
  },
  {
   "cell_type": "code",
   "execution_count": null,
   "metadata": {},
   "outputs": [],
   "source": [
    "# d: number of contacts performed during previous campaign ('previous') and deposit\n",
    "dfn = pd.DataFrame()\n",
    "dfn['previous_yes'] = (inp[inp['y'] == 'yes'][['y','previous']].describe())['previous']\n",
    "dfn['previous_no'] = (inp[inp['y'] == 'no'][['y','previous']].describe())['previous']\n",
    "\n",
    "dfn"
   ]
  },
  {
   "cell_type": "code",
   "execution_count": null,
   "metadata": {},
   "outputs": [],
   "source": [
    "dfn.drop(['count', '25%', '50%', '75%']).plot.bar(\n",
    "        title = 'Number of Contacts Previous Campaign and Deposit Stats', \n",
    "        color = ('#b85636','#e8b777'))"
   ]
  },
  {
   "cell_type": "markdown",
   "metadata": {},
   "source": [
    "*Observations:*\n",
    "* People who subscribed for term deposit tend to have greater balance and age values.\n",
    "* People who subscribed for term deposit tend to have fewer number of contacts during this campaign."
   ]
  },
  {
   "cell_type": "markdown",
   "metadata": {},
   "source": [
    "________"
   ]
  },
  {
   "cell_type": "markdown",
   "metadata": {},
   "source": [
    "### Step 3: Data Cleaning\n",
    "\n",
    "1. Convert columns with 'yes' and 'no' values to boolean columns;\n",
    "2. Convert categorical columns into dummy variables."
   ]
  },
  {
   "cell_type": "code",
   "execution_count": null,
   "metadata": {},
   "outputs": [],
   "source": [
    "def get_dummy_from_bool(row, column_name):\n",
    "    ''' Returns 0 if value in column_name is no, returns 1 if value in column_name is yes'''\n",
    "    return 1 if row[column_name] == 'yes' else 0\n",
    "\n",
    "def get_correct_values(row, column_name, threshold, df):\n",
    "    ''' Returns mean value if value in column_name is above threshold'''\n",
    "    if row[column_name] <= threshold:\n",
    "        return row[column_name]\n",
    "    else:\n",
    "        mean = df[df[column_name] <= threshold][column_name].mean()\n",
    "        return mean\n",
    "\n",
    "def clean_data(df):\n",
    "    '''\n",
    "    INPUT\n",
    "    df - pandas dataframe containing bank marketing campaign dataset\n",
    "    \n",
    "    OUTPUT\n",
    "    df - cleaned dataset:\n",
    "    1. columns with 'yes' and 'no' values are converted into boolean variables;\n",
    "    2. categorical columns are converted into dummy variables;\n",
    "    3. drop irrelevant columns.\n",
    "    4. impute incorrect values\n",
    "    '''\n",
    "    \n",
    "    cleaned_df = inp.copy()\n",
    "    \n",
    "    #convert columns containing 'yes' and 'no' values to boolean variables and drop original columns\n",
    "    bool_columns = ['default', 'housing', 'loan', 'y']\n",
    "    for bool_col in bool_columns:\n",
    "        cleaned_df[bool_col + '_bool'] = inp.apply(lambda row: get_dummy_from_bool(row, bool_col),axis=1)\n",
    "    \n",
    "    cleaned_df = cleaned_df.drop(columns = bool_columns)\n",
    "    \n",
    "    #convert categorical columns to dummies\n",
    "    # cat_columns = ['job', 'marital', 'education', 'contact', 'month', 'poutcome']\n",
    "    cat_columns = ['job', 'marital', 'education', 'contact', 'poutcome']\n",
    "    \n",
    "    for col in  cat_columns:\n",
    "        cleaned_df = pd.concat([cleaned_df.drop(col, axis=1),\n",
    "                                pd.get_dummies(cleaned_df[col], prefix=col, prefix_sep='_',\n",
    "                                               drop_first=True, dummy_na=False)], axis=1)\n",
    "    \n",
    "    #drop irrelevant columns\n",
    "    cleaned_df = cleaned_df.drop(columns = ['month'])\n",
    "\n",
    "    #impute incorrect values and drop original columns\n",
    "    cleaned_df['balance_cleaned'] = df.apply(lambda row: get_correct_values(row, 'balance', 10000, cleaned_df),axis=1)\n",
    "    cleaned_df['campaign_cleaned'] = df.apply(lambda row: get_correct_values(row, 'campaign', 30, cleaned_df),axis=1)\n",
    "    cleaned_df['previous_cleaned'] = df.apply(lambda row: get_correct_values(row, 'previous', 34, cleaned_df),axis=1)\n",
    "    \n",
    "    cleaned_df = cleaned_df.drop(columns = ['balance', 'campaign', 'previous'])\n",
    "    \n",
    "    return cleaned_df"
   ]
  },
  {
   "cell_type": "code",
   "execution_count": null,
   "metadata": {},
   "outputs": [],
   "source": [
    "# clean the dataset\n",
    "cleaned_df = clean_data(inp)\n",
    "cleaned_df.head()"
   ]
  },
  {
   "cell_type": "markdown",
   "metadata": {},
   "source": [
    "________"
   ]
  },
  {
   "cell_type": "markdown",
   "metadata": {},
   "source": [
    "### Step 4: ML Classification Model (XGBoost)\n",
    "\n",
    "Use cleaned datasets for prediction of campaign outcome with help of machine learning classification models. I will use XGBoost, which is one of the most common machine learning libraries for modelling.\n",
    "\n",
    "Resulting model will also help me understand, which features have the greatest importance for the prediction of the results of the campaign."
   ]
  },
  {
   "cell_type": "code",
   "execution_count": null,
   "metadata": {},
   "outputs": [],
   "source": [
    "#import machine learning\n",
    "from sklearn.ensemble import RandomForestClassifier\n",
    "from sklearn.ensemble import AdaBoostClassifier, GradientBoostingClassifier\n",
    "from sklearn.svm import SVC\n",
    "from sklearn.neighbors import KNeighborsClassifier\n",
    "from sklearn.naive_bayes import GaussianNB\n",
    "\n",
    "import xgboost\n",
    "\n",
    "from sklearn.model_selection import train_test_split #split\n",
    "from sklearn.metrics import accuracy_score #metrics\n",
    "\n",
    "#tools for hyperparameters search\n",
    "from sklearn.model_selection import StratifiedKFold\n",
    "from sklearn.model_selection import RandomizedSearchCV, GridSearchCV"
   ]
  },
  {
   "cell_type": "code",
   "execution_count": null,
   "metadata": {},
   "outputs": [],
   "source": [
    "# Create X and y datasets for training the model and split into train and test datasets.\n",
    "X = cleaned_df.drop(columns = 'y_bool')\n",
    "y = cleaned_df[['y_bool']]"
   ]
  },
  {
   "cell_type": "code",
   "execution_count": null,
   "metadata": {},
   "outputs": [],
   "source": [
    "cleaned_df['y_bool'].value_counts()"
   ]
  },
  {
   "cell_type": "markdown",
   "metadata": {},
   "source": [
    "To work with imbalance data in y_bool column, I will use undersample, oversampling and Synthetic Minority Oversampling Technique (SMOTE)"
   ]
  },
  {
   "cell_type": "markdown",
   "metadata": {},
   "source": [
    "##### Undersampling"
   ]
  },
  {
   "cell_type": "code",
   "execution_count": null,
   "metadata": {},
   "outputs": [],
   "source": [
    "from imblearn.under_sampling import RandomUnderSampler"
   ]
  },
  {
   "cell_type": "code",
   "execution_count": null,
   "metadata": {},
   "outputs": [],
   "source": [
    "rus = RandomUnderSampler(random_state=0)\n",
    "X_Usampled, y_Usampled = rus.fit_resample(X, y)\n",
    "y_Usampled.value_counts()"
   ]
  },
  {
   "cell_type": "markdown",
   "metadata": {},
   "source": [
    "##### Oversampling"
   ]
  },
  {
   "cell_type": "code",
   "execution_count": null,
   "metadata": {},
   "outputs": [],
   "source": [
    "from imblearn.over_sampling import RandomOverSampler"
   ]
  },
  {
   "cell_type": "code",
   "execution_count": null,
   "metadata": {},
   "outputs": [],
   "source": [
    "ros = RandomOverSampler(random_state=0)\n",
    "X_Osampled, y_Osampled = ros.fit_resample(X, y)\n",
    "y_Osampled.value_counts()"
   ]
  },
  {
   "cell_type": "markdown",
   "metadata": {},
   "source": [
    "##### Synthetic Minority Oversampling Technique (SMOTE)"
   ]
  },
  {
   "cell_type": "code",
   "execution_count": null,
   "metadata": {},
   "outputs": [],
   "source": [
    "from imblearn.over_sampling import SMOTE"
   ]
  },
  {
   "cell_type": "code",
   "execution_count": null,
   "metadata": {},
   "outputs": [],
   "source": [
    "sm = SMOTE(random_state=0)\n",
    "X_SMOTE, y_SMOTE = sm.fit_resample(X, y)\n",
    "y_SMOTE.value_counts()"
   ]
  },
  {
   "cell_type": "markdown",
   "metadata": {},
   "source": [
    "##### Generate train and test data"
   ]
  },
  {
   "cell_type": "code",
   "execution_count": null,
   "metadata": {},
   "outputs": [],
   "source": [
    "TEST_SIZE = 0.3\n",
    "RAND_STATE = 42"
   ]
  },
  {
   "cell_type": "code",
   "execution_count": null,
   "metadata": {},
   "outputs": [],
   "source": [
    "# Without Sampling\n",
    "# X_train, X_test, y_train, y_test = train_test_split(X, y, test_size = TEST_SIZE, random_state=RAND_STATE)\n",
    "\n",
    "# Undersampling\n",
    "# X_train, X_test, y_train, y_test = train_test_split(X_Usampled, y_Usampled, test_size = TEST_SIZE, random_state=RAND_STATE)\n",
    "\n",
    "# Oversampling\n",
    "# X_train, X_test, y_train, y_test = train_test_split(X_Osampled, y_Osampled, test_size = TEST_SIZE, random_state=RAND_STATE)\n",
    "\n",
    "# SMOTE\n",
    "X_train, X_test, y_train, y_test = train_test_split(X_SMOTE, y_SMOTE, test_size = TEST_SIZE, random_state=RAND_STATE)"
   ]
  },
  {
   "cell_type": "code",
   "execution_count": null,
   "metadata": {},
   "outputs": [],
   "source": [
    "#train XGBoost model\n",
    "xgb = xgboost.XGBClassifier(n_estimators=100, learning_rate=0.08, gamma=0, subsample=0.75,\n",
    "                           colsample_bytree=1, max_depth=7)\n",
    "xgb.fit(X_train,y_train.squeeze().values)\n",
    "\n",
    "#calculate and print scores for the model for top 15 features\n",
    "y_train_preds = xgb.predict(X_train)\n",
    "y_test_preds = xgb.predict(X_test)\n",
    "\n",
    "print('XGB accuracy score for train: %.3f: test: %.3f' % (\n",
    "        accuracy_score(y_train, y_train_preds),\n",
    "        accuracy_score(y_test, y_test_preds)))"
   ]
  },
  {
   "cell_type": "markdown",
   "metadata": {},
   "source": [
    "*Observations:*\n",
    "* Without sampling: XGB accuracy score for train: 0.932: test: 0.901\n",
    "* Undersampling: XGB accuracy score for train: 0.899: test: 0.830\n",
    "* Oversampling: XGB accuracy score for train: 0.885: test: 0.872\n",
    "* SMOTE: XGB accuracy score for train: 0.946: test: 0.929\n",
    "\n",
    "SMOTE gives the highest accuracy score for train and test. "
   ]
  },
  {
   "cell_type": "code",
   "execution_count": null,
   "metadata": {},
   "outputs": [],
   "source": [
    "# get feature importances from the model\n",
    "headers = [\"name\", \"score\"]\n",
    "values = sorted(zip(X_train.columns, xgb.feature_importances_), key=lambda x: x[1] * -1)\n",
    "xgb_feature_importances = pd.DataFrame(values, columns = headers)\n",
    "\n",
    "# plot feature importances\n",
    "x_pos = np.arange(0, len(xgb_feature_importances))\n",
    "plt.bar(x_pos, xgb_feature_importances['score'], color = '#e3b18d')\n",
    "plt.xticks(x_pos, xgb_feature_importances['name'])\n",
    "plt.xticks(rotation=90)\n",
    "plt.title('Feature importance (XGB)')\n",
    "\n",
    "plt.show()"
   ]
  },
  {
   "cell_type": "code",
   "execution_count": null,
   "metadata": {},
   "outputs": [],
   "source": [
    "# Find out account balance, which marketing campaign should focus on:\n",
    "df_new = cleaned_df.copy()\n",
    "\n",
    "# introduce new column 'balance_buckets'\n",
    "df_new['balance_buckets'] = pd.qcut(df_new['balance_cleaned'], 50, labels=False, duplicates = 'drop')\n",
    "\n",
    "# group by 'balance_buckets' and find average campaign outcome per balance bucket\n",
    "mean_deposit = df_new.groupby(['balance_buckets'])['y_bool'].mean()\n",
    "\n",
    "# plot\n",
    "plt.plot(mean_deposit.index, mean_deposit.values, color = '#e3b18d')\n",
    "plt.title('Mean % Subscription Depending on Account Balance')\n",
    "plt.xlabel('balance bucket')\n",
    "plt.ylabel('% subscription')\n",
    "plt.show()"
   ]
  },
  {
   "cell_type": "code",
   "execution_count": null,
   "metadata": {},
   "outputs": [],
   "source": [
    "df_new[df_new['balance_buckets'] == 34]['balance_cleaned'].min()"
   ]
  },
  {
   "cell_type": "code",
   "execution_count": null,
   "metadata": {},
   "outputs": [],
   "source": [
    "# introduce new column 'age_buckets'\n",
    "df_new['age_buckets'] = pd.qcut(df_new['age'], 20, labels=False, duplicates = 'drop')\n",
    "\n",
    "# group by 'age_buckets' and find average campaign outcome per age bucket\n",
    "mean_age = df_new.groupby(['age_buckets'])['y_bool'].mean()\n",
    "\n",
    "# plot\n",
    "plt.plot(mean_age.index, mean_age.values, color = '#e3b18d')\n",
    "plt.title('Mean % subscription depending on age')\n",
    "plt.xlabel('age bucket')\n",
    "plt.ylabel('% subscription')\n",
    "plt.show()"
   ]
  },
  {
   "cell_type": "code",
   "execution_count": null,
   "metadata": {},
   "outputs": [],
   "source": [
    "df_new[df_new['age_buckets'] == 3]['age'].max()"
   ]
  },
  {
   "cell_type": "code",
   "execution_count": null,
   "metadata": {},
   "outputs": [],
   "source": [
    "df_new[df_new['age_buckets'] == 17]['age'].min()"
   ]
  },
  {
   "cell_type": "code",
   "execution_count": null,
   "metadata": {},
   "outputs": [],
   "source": [
    "# Find out appropriate number of contacts with the customer during campaign:\n",
    "# introduce new column 'campaign_buckets'\n",
    "df_new['campaign_buckets'] = pd.qcut(df_new['campaign_cleaned'], 20, labels=False, duplicates = 'drop')\n",
    "\n",
    "# group by 'campaign_buckets' and find average campaign outcome per campaign bucket\n",
    "mean_campaign = df_new.groupby(['campaign_buckets'])['y_bool'].mean()\n",
    "\n",
    "# plot average campaign outcome per bucket \n",
    "plt.plot(mean_campaign.index, mean_campaign.values, color = '#e3b18d')\n",
    "plt.title('Mean % subscription depending on number of contacts')\n",
    "plt.xlabel('number of contacts bucket')\n",
    "plt.ylabel('% subscription')\n",
    "plt.show()"
   ]
  },
  {
   "cell_type": "code",
   "execution_count": null,
   "metadata": {},
   "outputs": [],
   "source": [
    "df_new[df_new['campaign_buckets'] == 2]['campaign_cleaned'].min()"
   ]
  },
  {
   "cell_type": "markdown",
   "metadata": {},
   "source": [
    "*Observations:*\n",
    "* From the diagram above we can conclude, that marketing campaigns should concentrate on customers with account balance greater than $1362.\n",
    "* Subscrpition rate tends to be higher for customers below 32 years old or above 54 years old.\n",
    "* From the plot above we see that average take up rate is below 50% if the number of contacts during the campaign exceeds 4."
   ]
  },
  {
   "cell_type": "markdown",
   "metadata": {},
   "source": [
    "________"
   ]
  },
  {
   "cell_type": "markdown",
   "metadata": {},
   "source": [
    "### Recommendations\n",
    "\n",
    "I recommend the following based on analysis conducted:\n",
    "\n",
    "* Contact between 750-1000 customers per month. Months (Mar, Sep, Oct & Dec) when less customers were contacted resulted in higher subscription rate.\n",
    "* Customers should have minimum $1350 balance in their account.\n",
    "* Include customers who are under 35 or over 55 years of age.\n",
    "* Customers who are not married.\n",
    "* Maximum number of calls per customer each month should not exceed 4. \n",
    "* Customers should not have credit default or have housing/personal loans.\n",
    "* Also prioritse calling customers who either have not been contacted previously or had a successful outcome from previous campaign."
   ]
  },
  {
   "cell_type": "markdown",
   "metadata": {},
   "source": [
    "________"
   ]
  }
 ],
 "metadata": {
  "interpreter": {
   "hash": "133602682ceac8dbac470470852ca2735ced8cf8e0bdd97a4df2a7e33d23d50b"
  },
  "kernelspec": {
   "display_name": "Python 3.10.4 64-bit",
   "language": "python",
   "name": "python3"
  },
  "language_info": {
   "codemirror_mode": {
    "name": "ipython",
    "version": 3
   },
   "file_extension": ".py",
   "mimetype": "text/x-python",
   "name": "python",
   "nbconvert_exporter": "python",
   "pygments_lexer": "ipython3",
   "version": "3.10.4"
  },
  "orig_nbformat": 4
 },
 "nbformat": 4,
 "nbformat_minor": 2
}
